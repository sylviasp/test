{
 "cells": [
  {
   "cell_type": "code",
   "execution_count": 4,
   "metadata": {},
   "outputs": [
    {
     "data": {
      "text/plain": [
       "5"
      ]
     },
     "execution_count": 4,
     "metadata": {},
     "output_type": "execute_result"
    }
   ],
   "source": [
    "# built-in functions: \n",
    "    #https://docs.python.org/2/library/functions.html\n",
    "abs(2)\n",
    "abs(-5)\n",
    "    "
   ]
  },
  {
   "cell_type": "code",
   "execution_count": 2,
   "metadata": {},
   "outputs": [
    {
     "data": {
      "text/plain": [
       "3"
      ]
     },
     "execution_count": 2,
     "metadata": {},
     "output_type": "execute_result"
    }
   ],
   "source": [
    "# Dictionary anlegen\n",
    "    #https://docs.python.org/2/library/stdtypes.html#typesmapping\n",
    "    #Dictionaries can be created by placing a comma-separated list of key: value pairs within braces\n",
    "a = dict(one=1, two=2, three=3)\n",
    "b = {'one': 1, 'two': 2, 'three': 3}\n",
    "c = dict(zip(['one', 'two', 'three'], [1, 2, 3]))\n",
    "d = dict([('two', 2), ('one', 1), ('three', 3)])\n",
    "e = dict({'three': 3, 'one': 1, 'two': 2})\n",
    "a == b == c == d == e\n",
    "\n",
    "len(d)    #gibt Länge des Dictionary \"d\" aus"
   ]
  },
  {
   "cell_type": "code",
   "execution_count": 4,
   "metadata": {},
   "outputs": [
    {
     "ename": "ImportError",
     "evalue": "No module named readline",
     "output_type": "error",
     "traceback": [
      "\u001b[1;31m---------------------------------------------------------------------------\u001b[0m",
      "\u001b[1;31mImportError\u001b[0m                               Traceback (most recent call last)",
      "\u001b[1;32m<ipython-input-4-36de576f5833>\u001b[0m in \u001b[0;36m<module>\u001b[1;34m()\u001b[0m\n\u001b[0;32m      1\u001b[0m \u001b[1;31m# input()\u001b[0m\u001b[1;33m\u001b[0m\u001b[1;33m\u001b[0m\u001b[0m\n\u001b[1;32m----> 2\u001b[1;33m \u001b[1;32mimport\u001b[0m \u001b[0mreadline\u001b[0m\u001b[1;33m\u001b[0m\u001b[0m\n\u001b[0m\u001b[0;32m      3\u001b[0m \u001b[1;31m#except ImportError:\u001b[0m\u001b[1;33m\u001b[0m\u001b[1;33m\u001b[0m\u001b[0m\n\u001b[0;32m      4\u001b[0m \u001b[1;32mimport\u001b[0m \u001b[0mpyreadline\u001b[0m \u001b[1;32mas\u001b[0m \u001b[0mreadline\u001b[0m\u001b[1;33m\u001b[0m\u001b[0m\n\u001b[0;32m      5\u001b[0m \u001b[0minput\u001b[0m\u001b[1;33m(\u001b[0m\u001b[1;33m)\u001b[0m\u001b[1;33m\u001b[0m\u001b[0m\n",
      "\u001b[1;31mImportError\u001b[0m: No module named readline"
     ]
    }
   ],
   "source": [
    "# input()\n",
    "import readline\n",
    "#except ImportError:\n",
    "import pyreadline as readline\n",
    "input()"
   ]
  },
  {
   "cell_type": "code",
   "execution_count": 1,
   "metadata": {},
   "outputs": [
    {
     "name": "stdout",
     "output_type": "stream",
     "text": [
      "-->2\n"
     ]
    },
    {
     "data": {
      "text/plain": [
       "'22'"
      ]
     },
     "execution_count": 1,
     "metadata": {},
     "output_type": "execute_result"
    }
   ],
   "source": [
    "s = raw_input('-->')\n",
    "s\n",
    "S = s*2\n",
    "S"
   ]
  },
  {
   "cell_type": "code",
   "execution_count": 5,
   "metadata": {},
   "outputs": [
    {
     "name": "stdout",
     "output_type": "stream",
     "text": [
      "<type 'int'>\n",
      "<type 'float'>\n",
      "<type 'complex'>\n",
      "((9+0j), <type 'complex'>)\n",
      "(9.0, <type 'float'>)\n",
      "(2, <type 'int'>)\n",
      "(1j, <type 'complex'>)\n",
      "(2L, <type 'long'>)\n",
      "(9L, <type 'long'>)\n"
     ]
    },
    {
     "data": {
      "text/plain": [
       "False"
      ]
     },
     "execution_count": 5,
     "metadata": {},
     "output_type": "execute_result"
    }
   ],
   "source": [
    "# numbers in Python:\n",
    "x = 9\n",
    "y = 2.8\n",
    "z = 1j\n",
    "print(type(x))\n",
    "print(type(y))\n",
    "print(type(z))\n",
    "\n",
    "X = complex(x) #integer in complex casten\n",
    "print(X,type(X))\n",
    "X1 = float(x) #integer in float casten\n",
    "print(X1,type(X1))\n",
    "Y = int(y)  #float in integer casten\n",
    "print(Y,type(Y))\n",
    "Z = complex(z) #can't convert complex to float / int\n",
    "print(Z,type(Z))\n",
    "yy = long(y)\n",
    "print(yy,type(yy))\n",
    "xx = long(x)\n",
    "print(xx,type(xx))\n",
    "\n",
    "# ------------------------------\n",
    "# 5.4.3. Additional Methods on Float - Standard Lib\n",
    "\n",
    "(-2.0).is_integer() # ist ein integer\n",
    "(-2.1).is_integer() # ist kein integer\n",
    "\n"
   ]
  },
  {
   "cell_type": "code",
   "execution_count": 17,
   "metadata": {},
   "outputs": [
    {
     "data": {
      "text/plain": [
       "[[], [], []]"
      ]
     },
     "execution_count": 17,
     "metadata": {},
     "output_type": "execute_result"
    }
   ],
   "source": [
    "# lists\n",
    "Lists = [[]] * 3\n",
    "Lists\n",
    "\n",
    "#list1 = [] * 3\n",
    "#list1"
   ]
  },
  {
   "cell_type": "code",
   "execution_count": 50,
   "metadata": {},
   "outputs": [
    {
     "data": {
      "text/plain": [
       "[[1], [1], [1], 1]"
      ]
     },
     "execution_count": 50,
     "metadata": {},
     "output_type": "execute_result"
    }
   ],
   "source": [
    "list1 = [[]]*3\n",
    "list1\n",
    "\n",
    "list2 =[[0]]*3\n",
    "list2\n",
    "list2.append(1)\n",
    "list2\n",
    "list1.append(1)\n",
    "list1\n",
    "list1[0].append(1)\n",
    "list1\n"
   ]
  },
  {
   "cell_type": "code",
   "execution_count": 40,
   "metadata": {},
   "outputs": [
    {
     "data": {
      "text/plain": [
       "[2, 3, 6, 1, 12, 13]"
      ]
     },
     "execution_count": 40,
     "metadata": {},
     "output_type": "execute_result"
    }
   ],
   "source": [
    "#append vs extend -  https://www.python-kurs.eu/python3_listen.php\n",
    "list4 = [[2]]*3\n",
    "list4\n",
    "list4.append(3)\n",
    "list4\n",
    " \n",
    "list5 = [2,3,6,1]\n",
    "list5\n",
    "s = [12,13]\n",
    "list5.extend(s)\n",
    "list5"
   ]
  },
  {
   "cell_type": "code",
   "execution_count": 43,
   "metadata": {},
   "outputs": [
    {
     "data": {
      "text/plain": [
       "[0, 1, 2, 3, 4, [12, 13]]"
      ]
     },
     "execution_count": 43,
     "metadata": {},
     "output_type": "execute_result"
    }
   ],
   "source": [
    "list6 = range(0,5)\n",
    "list6\n",
    "S = [[12,13]]\n",
    "list6.extend(S)\n",
    "list6"
   ]
  },
  {
   "cell_type": "code",
   "execution_count": 8,
   "metadata": {},
   "outputs": [
    {
     "data": {
      "text/plain": [
       "[[3], [3], [3]]"
      ]
     },
     "execution_count": 8,
     "metadata": {},
     "output_type": "execute_result"
    }
   ],
   "source": [
    "list7 = [[]]*3\n",
    "list7\n",
    "list7[2].append(3) # Stelle in list7, die mit [] angegeben wird kann 0,1,2 sein. bei 3 Fehler\n",
    "list7"
   ]
  },
  {
   "cell_type": "code",
   "execution_count": 47,
   "metadata": {},
   "outputs": [
    {
     "name": "stdout",
     "output_type": "stream",
     "text": [
      "([-5, -4, -3, -2, -1], <type 'list'>)\n"
     ]
    }
   ],
   "source": [
    "# example lists\n",
    "number_list = range(-5, 5)\n",
    "less_than_zero = list(filter(lambda x: x < 0, number_list))\n",
    "print(less_than_zero,type(less_than_zero))"
   ]
  },
  {
   "cell_type": "code",
   "execution_count": 48,
   "metadata": {},
   "outputs": [
    {
     "name": "stdout",
     "output_type": "stream",
     "text": [
      "([-5, -4, -3, -2, -1], <type 'list'>)\n"
     ]
    }
   ],
   "source": [
    "# example lists modifiziert\n",
    "number_list = range(-5, 5)\n",
    "less_than_zero = filter(lambda x: x < 0, number_list) #gleiches Ergebnis ohne list()\n",
    "print(less_than_zero,type(less_than_zero))"
   ]
  },
  {
   "cell_type": "code",
   "execution_count": 14,
   "metadata": {},
   "outputs": [
    {
     "name": "stdout",
     "output_type": "stream",
     "text": [
      "((1, 2, 3), <type 'tuple'>)\n",
      "([1, 2, 3], <type 'list'>)\n",
      "((1, 2, 3), <type 'tuple'>)\n",
      "([1, 2, 3], <type 'list'>)\n"
     ]
    }
   ],
   "source": [
    "# How do I convert between tuples and lists?\n",
    "l1 = (1,2,3)\n",
    "print(l1,type(l1))\n",
    "l2 = list(l1)\n",
    "print(l2,type(l2))\n",
    "l3 = tuple(l2)\n",
    "print(l3,type(l3))\n",
    "l4 = list((l3))\n",
    "print(l4,type(l4))"
   ]
  },
  {
   "cell_type": "code",
   "execution_count": 16,
   "metadata": {},
   "outputs": [
    {
     "data": {
      "text/plain": [
       "[0, 1, 2, 3, 4, 8, 9, 10]"
      ]
     },
     "execution_count": 16,
     "metadata": {},
     "output_type": "execute_result"
    }
   ],
   "source": [
    "# How do you remove duplicates from a list?\n",
    "l5 = [1,2,3,4,8,8,8,9,10,0,1,2]\n",
    "l5 = list(set(l5))\n",
    "l5"
   ]
  },
  {
   "cell_type": "code",
   "execution_count": 7,
   "metadata": {},
   "outputs": [
    {
     "data": {
      "text/plain": [
       "False"
      ]
     },
     "execution_count": 7,
     "metadata": {},
     "output_type": "execute_result"
    }
   ],
   "source": [
    "# 5.6 Sequence types - https://docs.python.org/2/library/stdtypes.html#typesseq\n",
    "'O' in 'Oli'\n",
    "'O' in 'Sylvie'"
   ]
  },
  {
   "cell_type": "code",
   "execution_count": 15,
   "metadata": {},
   "outputs": [
    {
     "data": {
      "text/plain": [
       "(['Leuchtturm', 'Leuchtturm', 'Leuchtturm'], 2)"
      ]
     },
     "execution_count": 15,
     "metadata": {},
     "output_type": "execute_result"
    }
   ],
   "source": [
    "min('Sylvia') # ergibt S .. erster Buchstabe\n",
    "min('Oliver') # ergibt O .. erster Buchstabe\n",
    "min('5691') # Zahl in '' für String - weil sonst Error: interger gehen nicht\n",
    "min(str(5691)) # ergibt 1 .. kleinste Zahl\n",
    "\n",
    "#-------------------------------\n",
    "max('Sylvia')\n",
    "max('Oliver')\n",
    "max('5691')\n",
    "\n",
    "#-------------------------------\n",
    "s = 'Leuchtturm'\n",
    "s.index('t')\n",
    "s.count('t')\n",
    "\n",
    "#-------------------------------\n",
    "\n",
    "s *3\n",
    "[s]*3\n",
    "([s]*3,2)\n",
    "#-------------------------------\n"
   ]
  },
  {
   "cell_type": "code",
   "execution_count": null,
   "metadata": {},
   "outputs": [],
   "source": [
    "# 5.9. File Objects - https://docs.python.org/2/library/stdtypes.html#file-objects\n"
   ]
  },
  {
   "cell_type": "code",
   "execution_count": 37,
   "metadata": {},
   "outputs": [
    {
     "name": "stdout",
     "output_type": "stream",
     "text": [
      "0.982210329801\n"
     ]
    }
   ],
   "source": [
    "# random values mit Modul random: https://de.wikibooks.org/wiki/Module_in_Python_2:_random\n",
    "  # Mit dem Modul Random können zufällige Zahlen erzeugt (oder Buchstaben ausgewählt?) werden.\n",
    "    \n",
    "import random\n",
    "\n",
    "zufallsfloat = random.random()\n",
    "print zufallsfloat"
   ]
  },
  {
   "cell_type": "code",
   "execution_count": 41,
   "metadata": {},
   "outputs": [
    {
     "name": "stdout",
     "output_type": "stream",
     "text": [
      "(array([16, 10, 13, 12, 10, 12, 14, 14, 18, 16, 12, 15, 17, 12, 19, 10, 12,\n",
      "       15, 13, 12]), <type 'numpy.ndarray'>)\n"
     ]
    }
   ],
   "source": [
    "# random values mit numpy:\n",
    "\n",
    "import numpy as np\n",
    "sample = np.random.randint(10,20, size=20) # angeben in Klammer (lowest, highest, Anzahl)\n",
    "print(sample,type(sample))\n"
   ]
  },
  {
   "cell_type": "code",
   "execution_count": 22,
   "metadata": {},
   "outputs": [
    {
     "name": "stdout",
     "output_type": "stream",
     "text": [
      "sind\n"
     ]
    },
    {
     "data": {
      "text/plain": [
       "84"
      ]
     },
     "execution_count": 22,
     "metadata": {},
     "output_type": "execute_result"
    }
   ],
   "source": [
    "# random Beispiele\n",
    "import random\n",
    "liste = ['Das', 'sind', 'sinnlose', 'Strings']\n",
    "ausgabe = random.choice(liste)\n",
    "print ausgabe\n",
    "\n",
    "random.randrange(0, 101, 2)  # 2=Even integer, 1=uneven, from 0 to 100"
   ]
  },
  {
   "cell_type": "code",
   "execution_count": 25,
   "metadata": {},
   "outputs": [
    {
     "name": "stdout",
     "output_type": "stream",
     "text": [
      "<type 'numpy.ndarray'>\n",
      "<type 'array.array'>\n"
     ]
    }
   ],
   "source": [
    "# Array\n",
    " # a = ([1,2,3,6,9,12,16,20]) print(type(a)) --> typ ist eine Liste.\n",
    "    \n",
    "    # um ein echtes Array zu erstellen ist Modul numpy nötig:\n",
    "import numpy as np\n",
    "a = np.array([1,2,3,6,9,12,16,20]) \n",
    "print(type(a))                          #   --> <type 'numpy.ndarray'>\n",
    "\n",
    "    # es gibt Methoden, die nur im Array.Array arbeiten:\n",
    "import array\n",
    "A = array.array('i',[1,2,3,6,9,12,16,20,2]) \n",
    "A.count(2)                              #   --> count kann nur auf das array.array angewandt werden, nicht auf np.array!\n",
    "                                        #   --> zählt, wie oft Wert in Klammer in Array A vorkommt, das vor .count steht\n",
    "    \n",
    "len(A)                                  #   --> im Gegensatz ermittelt man mit len(array) die Anzahl der Elemente im Array\n",
    "print(type(A))\n",
    "\n",
    "    "
   ]
  },
  {
   "cell_type": "code",
   "execution_count": 26,
   "metadata": {},
   "outputs": [
    {
     "name": "stdout",
     "output_type": "stream",
     "text": [
      "[[1 1]\n",
      " [1 1]\n",
      " [1 1]]\n",
      "[[1, 1], [1, 1], [1, 1]]\n",
      "[[1 1]\n",
      " [1 1]\n",
      " [1 1]]\n",
      "array('i')\n"
     ]
    },
    {
     "ename": "TypeError",
     "evalue": "an integer is required",
     "output_type": "error",
     "traceback": [
      "\u001b[1;31m---------------------------------------------------------------------------\u001b[0m",
      "\u001b[1;31mTypeError\u001b[0m                                 Traceback (most recent call last)",
      "\u001b[1;32m<ipython-input-26-05b89e55aaca>\u001b[0m in \u001b[0;36m<module>\u001b[1;34m()\u001b[0m\n\u001b[0;32m     33\u001b[0m \u001b[1;31m#print(type(x))\u001b[0m\u001b[1;33m\u001b[0m\u001b[1;33m\u001b[0m\u001b[0m\n\u001b[0;32m     34\u001b[0m \u001b[1;32mfor\u001b[0m \u001b[0mv\u001b[0m \u001b[1;32min\u001b[0m \u001b[0maa\u001b[0m\u001b[1;33m:\u001b[0m\u001b[1;33m\u001b[0m\u001b[0m\n\u001b[1;32m---> 35\u001b[1;33m     \u001b[0mz\u001b[0m\u001b[1;33m.\u001b[0m\u001b[0mappend\u001b[0m\u001b[1;33m(\u001b[0m\u001b[0mlist\u001b[0m\u001b[1;33m(\u001b[0m\u001b[0mv\u001b[0m\u001b[1;33m)\u001b[0m\u001b[1;33m)\u001b[0m\u001b[1;33m\u001b[0m\u001b[0m\n\u001b[0m\u001b[0;32m     36\u001b[0m     \u001b[1;32mprint\u001b[0m \u001b[1;34m\"sylv\"\u001b[0m\u001b[1;33m,\u001b[0m \u001b[0mv\u001b[0m\u001b[1;33m\u001b[0m\u001b[0m\n\u001b[0;32m     37\u001b[0m     \u001b[1;32mprint\u001b[0m\u001b[1;33m(\u001b[0m\u001b[0mtype\u001b[0m\u001b[1;33m(\u001b[0m\u001b[0mv\u001b[0m\u001b[1;33m)\u001b[0m\u001b[1;33m)\u001b[0m\u001b[1;33m\u001b[0m\u001b[0m\n",
      "\u001b[1;31mTypeError\u001b[0m: an integer is required"
     ]
    }
   ],
   "source": [
    "# 8.6. Array - https://docs.python.org/2/library/array.html?highlight=array#module-array\n",
    "# array.tolist() # Convert the array to an ordinary list with the same items.\n",
    "# array.reverse() # Reverse the order of the items in the array.\n",
    "# array.insert(i, x) # Insert a new item with value x in the array before position i. Negative values are treated as being relative to the end of the array.\n",
    "\n",
    "import array\n",
    "import numpy as np\n",
    "\n",
    "aa = np.ones((3,2), dtype=int)\n",
    "print(aa)        # <type 'numpy.ndarray'>\n",
    "bb = aa.tolist()\n",
    "#print(type(bb))        # <type 'list'>\n",
    "print(bb)\n",
    "#cc = z.eval()\n",
    "#print(type(cc))\n",
    "#dd = cc.tolist()\n",
    "#print(type(dd))\n",
    "                # ------------------------------------------------>>>>> in neuem Array-Array die Liste (bb) zuweisen\n",
    "    \n",
    "    \n",
    "\n",
    "s = np.array_str(aa)\n",
    "print(s)\n",
    "#print(type(s))          # <type 'str'>\n",
    "#c = array.array('i',int(s))\n",
    "#print(type(c))\n",
    "\n",
    "z = array.array('i',[])\n",
    "##t = z.fromstring(s)\n",
    "print(z)\n",
    "#print(type(z))          # <type 'array.array'>     \n",
    "#print(t)\n",
    "\n",
    "#x = z.fromlist(bb)      # TypeError: an integer is required\n",
    "#print(x)\n",
    "#print(type(x))\n",
    "for v in aa:\n",
    "    z.append(list(v))\n",
    "    print \"sylv\", v\n",
    "    print(type(v))\n",
    "#print (z)\n",
    "#print(type(z))\n",
    "\n",
    "# Ergebnis:\n",
    "# array.array kann nur ein eindimensionales Array aufnehmen. \n",
    "# wird als typsichere Liste (Typ der Elemente in der Liste) verwendet.\n",
    "# es gibt numpy für mehrdimensionale Arrays"
   ]
  },
  {
   "cell_type": "code",
   "execution_count": 5,
   "metadata": {},
   "outputs": [
    {
     "name": "stdout",
     "output_type": "stream",
     "text": [
      "[(1, 2), (3, 1), (5, 10), (11, -3)]\n"
     ]
    }
   ],
   "source": [
    "# lamda-function Bsp von grundkurs-python3.pdf - S. 40\n",
    "my_list = [(3, 1), (1, 2), (11, -3), (5, 10)]\n",
    "my_list.sort(key=lambda x: x[0])                    # x[0] sortiert nach 1. Zahl, x[1] sortiert nach 2. Zahl\n",
    "print(my_list)"
   ]
  },
  {
   "cell_type": "code",
   "execution_count": 6,
   "metadata": {},
   "outputs": [
    {
     "name": "stdout",
     "output_type": "stream",
     "text": [
      "The Zen of Python, by Tim Peters\n",
      "\n",
      "Beautiful is better than ugly.\n",
      "Explicit is better than implicit.\n",
      "Simple is better than complex.\n",
      "Complex is better than complicated.\n",
      "Flat is better than nested.\n",
      "Sparse is better than dense.\n",
      "Readability counts.\n",
      "Special cases aren't special enough to break the rules.\n",
      "Although practicality beats purity.\n",
      "Errors should never pass silently.\n",
      "Unless explicitly silenced.\n",
      "In the face of ambiguity, refuse the temptation to guess.\n",
      "There should be one-- and preferably only one --obvious way to do it.\n",
      "Although that way may not be obvious at first unless you're Dutch.\n",
      "Now is better than never.\n",
      "Although never is often better than *right* now.\n",
      "If the implementation is hard to explain, it's a bad idea.\n",
      "If the implementation is easy to explain, it may be a good idea.\n",
      "Namespaces are one honking great idea -- let's do more of those!\n",
      "Help on module this:\n",
      "\n",
      "NAME\n",
      "    this\n",
      "\n",
      "FILE\n",
      "    c:\\users\\sylvia\\anaconda2\\lib\\this.py\n",
      "\n",
      "DATA\n",
      "    c = '!'\n",
      "    d = {'A': 'N', 'B': 'O', 'C': 'P', 'D': 'Q', 'E': 'R', 'F': 'S', 'G': ...\n",
      "    i = 25\n",
      "    s = \"Gur Mra bs Clguba, ol Gvz Crgref\\n\\nOrnhgvshy vf o...bar ubaxvat ...\n",
      "\n",
      "\n"
     ]
    }
   ],
   "source": [
    "import this\n",
    "help(this)"
   ]
  },
  {
   "cell_type": "code",
   "execution_count": null,
   "metadata": {},
   "outputs": [
    {
     "name": "stdout",
     "output_type": "stream",
     "text": [
      "\n",
      "Welcome to Python 2.7!  This is the online help utility.\n",
      "\n",
      "If this is your first time using Python, you should definitely check out\n",
      "the tutorial on the Internet at http://docs.python.org/2.7/tutorial/.\n",
      "\n",
      "Enter the name of any module, keyword, or topic to get help on writing\n",
      "Python programs and using Python modules.  To quit this help utility and\n",
      "return to the interpreter, just type \"quit\".\n",
      "\n",
      "To get a list of available modules, keywords, or topics, type \"modules\",\n",
      "\"keywords\", or \"topics\".  Each module also comes with a one-line summary\n",
      "of what it does; to list the modules whose summaries contain a given word\n",
      "such as \"spam\", type \"modules spam\".\n",
      "\n",
      "help> modules\n",
      "\n",
      "Please wait a moment while I gather a list of all available modules...\n",
      "\n"
     ]
    },
    {
     "name": "stderr",
     "output_type": "stream",
     "text": [
      "C:\\Users\\Sylvia\\Anaconda2\\lib\\site-packages\\IPython\\kernel\\__init__.py:13: ShimWarning: The `IPython.kernel` package has been deprecated since IPython 4.0.You should import from ipykernel or jupyter_client instead.\n",
      "  \"You should import from ipykernel or jupyter_client instead.\", ShimWarning)\n",
      "WARNING: AstropyDeprecationWarning: The astropy.vo.samp module has now been moved to astropy.samp [astropy.vo.samp]\n",
      "C:\\Users\\Sylvia\\Anaconda2\\lib\\site-packages\\h5py\\__init__.py:36: FutureWarning: Conversion of the second argument of issubdtype from `float` to `np.floating` is deprecated. In future, it will be treated as `np.float64 == np.dtype(float).type`.\n",
      "  from ._conv import register_converters as _register_converters\n"
     ]
    }
   ],
   "source": [
    "help()"
   ]
  }
 ],
 "metadata": {
  "kernelspec": {
   "display_name": "Python 2",
   "language": "python",
   "name": "python2"
  },
  "language_info": {
   "codemirror_mode": {
    "name": "ipython",
    "version": 2
   },
   "file_extension": ".py",
   "mimetype": "text/x-python",
   "name": "python",
   "nbconvert_exporter": "python",
   "pygments_lexer": "ipython2",
   "version": "2.7.15"
  }
 },
 "nbformat": 4,
 "nbformat_minor": 2
}
